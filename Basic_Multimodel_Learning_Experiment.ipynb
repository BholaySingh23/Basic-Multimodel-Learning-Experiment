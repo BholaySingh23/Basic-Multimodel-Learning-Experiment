{
  "nbformat": 4,
  "nbformat_minor": 0,
  "metadata": {
    "colab": {
      "provenance": []
    },
    "kernelspec": {
      "name": "python3",
      "display_name": "Python 3"
    },
    "language_info": {
      "name": "python"
    }
  },
  "cells": [
    {
      "cell_type": "code",
      "execution_count": 28,
      "metadata": {
        "colab": {
          "base_uri": "https://localhost:8080/"
        },
        "id": "MBdal3nSTo2I",
        "outputId": "8c5717bb-dd62-4792-bbb6-0d318bc0eb05"
      },
      "outputs": [
        {
          "output_type": "stream",
          "name": "stdout",
          "text": [
            "Requirement already satisfied: torch in /usr/local/lib/python3.10/dist-packages (2.4.1+cu121)\n",
            "Requirement already satisfied: torchvision in /usr/local/lib/python3.10/dist-packages (0.19.1+cu121)\n",
            "Requirement already satisfied: transformers in /usr/local/lib/python3.10/dist-packages (4.44.2)\n",
            "Requirement already satisfied: pandas in /usr/local/lib/python3.10/dist-packages (2.2.2)\n",
            "Requirement already satisfied: pillow in /usr/local/lib/python3.10/dist-packages (10.4.0)\n",
            "Requirement already satisfied: filelock in /usr/local/lib/python3.10/dist-packages (from torch) (3.16.1)\n",
            "Requirement already satisfied: typing-extensions>=4.8.0 in /usr/local/lib/python3.10/dist-packages (from torch) (4.12.2)\n",
            "Requirement already satisfied: sympy in /usr/local/lib/python3.10/dist-packages (from torch) (1.13.3)\n",
            "Requirement already satisfied: networkx in /usr/local/lib/python3.10/dist-packages (from torch) (3.4.1)\n",
            "Requirement already satisfied: jinja2 in /usr/local/lib/python3.10/dist-packages (from torch) (3.1.4)\n",
            "Requirement already satisfied: fsspec in /usr/local/lib/python3.10/dist-packages (from torch) (2024.6.1)\n",
            "Requirement already satisfied: numpy in /usr/local/lib/python3.10/dist-packages (from torchvision) (1.26.4)\n",
            "Requirement already satisfied: huggingface-hub<1.0,>=0.23.2 in /usr/local/lib/python3.10/dist-packages (from transformers) (0.24.7)\n",
            "Requirement already satisfied: packaging>=20.0 in /usr/local/lib/python3.10/dist-packages (from transformers) (24.1)\n",
            "Requirement already satisfied: pyyaml>=5.1 in /usr/local/lib/python3.10/dist-packages (from transformers) (6.0.2)\n",
            "Requirement already satisfied: regex!=2019.12.17 in /usr/local/lib/python3.10/dist-packages (from transformers) (2024.9.11)\n",
            "Requirement already satisfied: requests in /usr/local/lib/python3.10/dist-packages (from transformers) (2.32.3)\n",
            "Requirement already satisfied: safetensors>=0.4.1 in /usr/local/lib/python3.10/dist-packages (from transformers) (0.4.5)\n",
            "Requirement already satisfied: tokenizers<0.20,>=0.19 in /usr/local/lib/python3.10/dist-packages (from transformers) (0.19.1)\n",
            "Requirement already satisfied: tqdm>=4.27 in /usr/local/lib/python3.10/dist-packages (from transformers) (4.66.5)\n",
            "Requirement already satisfied: python-dateutil>=2.8.2 in /usr/local/lib/python3.10/dist-packages (from pandas) (2.8.2)\n",
            "Requirement already satisfied: pytz>=2020.1 in /usr/local/lib/python3.10/dist-packages (from pandas) (2024.2)\n",
            "Requirement already satisfied: tzdata>=2022.7 in /usr/local/lib/python3.10/dist-packages (from pandas) (2024.2)\n",
            "Requirement already satisfied: six>=1.5 in /usr/local/lib/python3.10/dist-packages (from python-dateutil>=2.8.2->pandas) (1.16.0)\n",
            "Requirement already satisfied: MarkupSafe>=2.0 in /usr/local/lib/python3.10/dist-packages (from jinja2->torch) (3.0.1)\n",
            "Requirement already satisfied: charset-normalizer<4,>=2 in /usr/local/lib/python3.10/dist-packages (from requests->transformers) (3.4.0)\n",
            "Requirement already satisfied: idna<4,>=2.5 in /usr/local/lib/python3.10/dist-packages (from requests->transformers) (3.10)\n",
            "Requirement already satisfied: urllib3<3,>=1.21.1 in /usr/local/lib/python3.10/dist-packages (from requests->transformers) (2.2.3)\n",
            "Requirement already satisfied: certifi>=2017.4.17 in /usr/local/lib/python3.10/dist-packages (from requests->transformers) (2024.8.30)\n",
            "Requirement already satisfied: mpmath<1.4,>=1.1.0 in /usr/local/lib/python3.10/dist-packages (from sympy->torch) (1.3.0)\n"
          ]
        }
      ],
      "source": [
        "!pip install torch torchvision transformers pandas pillow"
      ]
    },
    {
      "cell_type": "code",
      "source": [
        "import torch\n",
        "import torch.nn as nn\n",
        "import torch.optim as optim\n",
        "from torch.utils.data import DataLoader, Dataset, random_split\n",
        "from torchvision import transforms, models\n",
        "from transformers import BertTokenizer, BertModel\n",
        "from PIL import Image, ImageDraw\n",
        "import random\n",
        "import os\n",
        "import pandas as pd\n",
        "from sklearn.model_selection import train_test_split\n",
        "from sklearn.metrics import accuracy_score, classification_report"
      ],
      "metadata": {
        "id": "-Po_uzAV6png"
      },
      "execution_count": 29,
      "outputs": []
    },
    {
      "cell_type": "code",
      "source": [
        "# Create a directory to store the images\n",
        "if not os.path.exists('synthetic_data/images'):\n",
        "    os.makedirs('synthetic_data/images')"
      ],
      "metadata": {
        "id": "62kRKsEZ6s8-"
      },
      "execution_count": 30,
      "outputs": []
    },
    {
      "cell_type": "code",
      "source": [
        "# Function to generate random images\n",
        "def generate_image(color, shape, img_path):\n",
        "    img = Image.new('RGB', (224, 224), color=(255, 255, 255))  # White background for contrast\n",
        "    draw = ImageDraw.Draw(img)\n",
        "    if shape == 'circle':\n",
        "        # Proper bounding box for a perfect circle\n",
        "        draw.ellipse((50, 50, 174, 174), fill=color, outline=\"black\", width=3)\n",
        "    elif shape == 'square':\n",
        "        draw.rectangle((50, 50, 174, 174), fill=color, outline=\"black\", width=3)\n",
        "    img.save(img_path)"
      ],
      "metadata": {
        "id": "pCH7XOMf6tsW"
      },
      "execution_count": 31,
      "outputs": []
    },
    {
      "cell_type": "code",
      "source": [
        "# Generate a CSV with image paths, more descriptive text, and correct labels\n",
        "def create_synthetic_data(num_samples):\n",
        "    data = []\n",
        "    colors = ['red', 'green', 'blue', 'yellow']\n",
        "    shapes = ['circle', 'square']\n",
        "\n",
        "    for i in range(num_samples):\n",
        "        color = random.choice(colors)\n",
        "        shape = random.choice(shapes)\n",
        "\n",
        "        # Ensure that the label corresponds to the shape correctly\n",
        "        label = 0 if shape == 'circle' else 1  # Label 0 for circle, 1 for square\n",
        "\n",
        "        img_path = f'synthetic_data/images/img_{i}.png'\n",
        "        generate_image(color=color, shape=shape, img_path=img_path)\n",
        "\n",
        "        # Make sure the text description is consistent with the generated shape\n",
        "        text_description = f\"This is a {color} {shape}. The shape is very {random.choice(['large', 'small'])}, and the color is {random.choice(['bright', 'dull'])}. It has a {shape} outline.\"\n",
        "        data.append([img_path, text_description, label])\n",
        "\n",
        "    # Save the dataset to CSV\n",
        "    df = pd.DataFrame(data, columns=['image', 'text', 'label'])\n",
        "    df.to_csv('synthetic_data/data.csv', index=False)\n"
      ],
      "metadata": {
        "id": "aTPBy3P46weQ"
      },
      "execution_count": 32,
      "outputs": []
    },
    {
      "cell_type": "code",
      "source": [
        "# Generate 100 synthetic samples\n",
        "create_synthetic_data(100)"
      ],
      "metadata": {
        "id": "7ypH90lt61RF"
      },
      "execution_count": 33,
      "outputs": []
    },
    {
      "cell_type": "code",
      "source": [
        "# Custom Dataset to handle both images and text\n",
        "class MultimodalDataset(Dataset):\n",
        "    def __init__(self, csv_file, tokenizer, transform=None):\n",
        "        self.data = pd.read_csv(csv_file)\n",
        "        self.tokenizer = tokenizer\n",
        "        self.transform = transform\n",
        "\n",
        "    def __len__(self):\n",
        "        return len(self.data)\n",
        "\n",
        "    def __getitem__(self, idx):\n",
        "        img_name = self.data.iloc[idx, 0]\n",
        "        image = Image.open(img_name)\n",
        "        if self.transform:\n",
        "            image = self.transform(image)\n",
        "\n",
        "        text = self.data.iloc[idx, 1]\n",
        "        text_inputs = self.tokenizer(text, return_tensors='pt', truncation=True, padding=True)\n",
        "\n",
        "        label = torch.tensor(int(self.data.iloc[idx, 2]))\n",
        "\n",
        "        return image, text_inputs['input_ids'].squeeze(), text_inputs['attention_mask'].squeeze(), label\n"
      ],
      "metadata": {
        "id": "FkFcRsJQ66QV"
      },
      "execution_count": 34,
      "outputs": []
    },
    {
      "cell_type": "code",
      "source": [
        "# Define the multimodal model\n",
        "class MultimodalModel(nn.Module):\n",
        "    def __init__(self, num_labels):\n",
        "        super(MultimodalModel, self).__init__()\n",
        "        # Pretrained CNN for images (ResNet18)\n",
        "        self.image_model = models.resnet18(pretrained=True)\n",
        "        self.image_model.fc = nn.Linear(self.image_model.fc.in_features, 512)\n",
        "\n",
        "        # Pretrained BERT for text\n",
        "        self.text_model = BertModel.from_pretrained('bert-base-uncased')\n",
        "\n",
        "        # Final classification layer\n",
        "        self.fc = nn.Linear(512 + 768, num_labels)\n",
        "\n",
        "    def forward(self, image, input_ids, attention_mask):\n",
        "        # Image features\n",
        "        img_features = self.image_model(image)\n",
        "\n",
        "        # Text features\n",
        "        text_outputs = self.text_model(input_ids=input_ids, attention_mask=attention_mask)\n",
        "        text_features = text_outputs.pooler_output\n",
        "\n",
        "        # Concatenate the two modalities\n",
        "        combined_features = torch.cat((img_features, text_features), dim=1)\n",
        "\n",
        "        # Final classification\n",
        "        output = self.fc(combined_features)\n",
        "        return output"
      ],
      "metadata": {
        "id": "_G578-My6_Km"
      },
      "execution_count": 35,
      "outputs": []
    },
    {
      "cell_type": "code",
      "source": [
        "# Training parameters\n",
        "batch_size = 16\n",
        "learning_rate = 0.001\n",
        "num_epochs = 5\n",
        "num_labels = 2  # Circle vs Square\n",
        "\n",
        "# Tokenizer for text (BERT)\n",
        "tokenizer = BertTokenizer.from_pretrained('bert-base-uncased')\n",
        "\n",
        "# Data transformations for images\n",
        "transform = transforms.Compose([\n",
        "    transforms.Resize((224, 224)),\n",
        "    transforms.ToTensor(),\n",
        "    transforms.Normalize(mean=[0.485, 0.456, 0.406], std=[0.229, 0.224, 0.225]),\n",
        "])\n"
      ],
      "metadata": {
        "colab": {
          "base_uri": "https://localhost:8080/"
        },
        "id": "gfL7RuCxTxzb",
        "outputId": "5b5c265a-4202-454a-9b15-aea6e5d31c8c"
      },
      "execution_count": 36,
      "outputs": [
        {
          "output_type": "stream",
          "name": "stderr",
          "text": [
            "/usr/local/lib/python3.10/dist-packages/transformers/tokenization_utils_base.py:1601: FutureWarning: `clean_up_tokenization_spaces` was not set. It will be set to `True` by default. This behavior will be depracted in transformers v4.45, and will be then set to `False` by default. For more details check this issue: https://github.com/huggingface/transformers/issues/31884\n",
            "  warnings.warn(\n"
          ]
        }
      ]
    },
    {
      "cell_type": "code",
      "source": [
        "\n",
        "# Load the full dataset\n",
        "dataset = MultimodalDataset(csv_file='synthetic_data/data.csv', tokenizer=tokenizer, transform=transform)\n",
        "\n"
      ],
      "metadata": {
        "id": "jDpElybG7IYG"
      },
      "execution_count": 37,
      "outputs": []
    },
    {
      "cell_type": "code",
      "source": [
        "# Split into training and testing datasets (80% training, 20% testing)\n",
        "train_size = int(0.8 * len(dataset))\n",
        "test_size = len(dataset) - train_size\n",
        "train_dataset, test_dataset = random_split(dataset, [train_size, test_size])\n",
        "\n",
        "train_loader = DataLoader(train_dataset, batch_size=batch_size, shuffle=True)\n",
        "test_loader = DataLoader(test_dataset, batch_size=batch_size, shuffle=False)\n",
        "\n"
      ],
      "metadata": {
        "id": "4LwezOtQ7PWN"
      },
      "execution_count": 38,
      "outputs": []
    },
    {
      "cell_type": "code",
      "source": [
        "# Initialize the model\n",
        "model = MultimodalModel(num_labels=num_labels)\n",
        "criterion = nn.CrossEntropyLoss()\n",
        "optimizer = optim.Adam(model.parameters(), lr=learning_rate)\n"
      ],
      "metadata": {
        "colab": {
          "base_uri": "https://localhost:8080/"
        },
        "id": "WXR68SVO7YG0",
        "outputId": "fa74e88b-6541-4273-c813-622004389993"
      },
      "execution_count": 39,
      "outputs": [
        {
          "output_type": "stream",
          "name": "stderr",
          "text": [
            "/usr/local/lib/python3.10/dist-packages/torchvision/models/_utils.py:208: UserWarning: The parameter 'pretrained' is deprecated since 0.13 and may be removed in the future, please use 'weights' instead.\n",
            "  warnings.warn(\n",
            "/usr/local/lib/python3.10/dist-packages/torchvision/models/_utils.py:223: UserWarning: Arguments other than a weight enum or `None` for 'weights' are deprecated since 0.13 and may be removed in the future. The current behavior is equivalent to passing `weights=ResNet18_Weights.IMAGENET1K_V1`. You can also use `weights=ResNet18_Weights.DEFAULT` to get the most up-to-date weights.\n",
            "  warnings.warn(msg)\n"
          ]
        }
      ]
    },
    {
      "cell_type": "code",
      "source": [
        "\n",
        "# Training loop\n",
        "device = torch.device('cuda' if torch.cuda.is_available() else 'cpu')\n",
        "model.to(device)\n",
        "\n",
        "for epoch in range(num_epochs):\n",
        "    model.train()\n",
        "    running_loss = 0.0\n",
        "\n",
        "    for images, input_ids, attention_masks, labels in train_loader:\n",
        "        images, input_ids, attention_masks, labels = images.to(device), input_ids.to(device), attention_masks.to(device), labels.to(device)\n",
        "\n",
        "        optimizer.zero_grad()\n",
        "\n",
        "        outputs = model(images, input_ids, attention_masks)\n",
        "        loss = criterion(outputs, labels)\n",
        "\n",
        "        loss.backward()\n",
        "        optimizer.step()\n",
        "\n",
        "        running_loss += loss.item()\n",
        "\n",
        "    print(f'Epoch [{epoch+1}/{num_epochs}], Loss: {running_loss/len(train_loader)}')\n",
        "\n"
      ],
      "metadata": {
        "colab": {
          "base_uri": "https://localhost:8080/"
        },
        "id": "c_ynjSvV7mhe",
        "outputId": "7d7dacf1-e3b7-486a-f868-879efff31753"
      },
      "execution_count": 40,
      "outputs": [
        {
          "output_type": "stream",
          "name": "stdout",
          "text": [
            "Epoch [1/5], Loss: 0.3984122809721157\n",
            "Epoch [2/5], Loss: 0.0016011580126360058\n",
            "Epoch [3/5], Loss: 0.00025182991794281406\n",
            "Epoch [4/5], Loss: 6.4396015670809e-05\n",
            "Epoch [5/5], Loss: 1.0552430808274949e-05\n"
          ]
        }
      ]
    },
    {
      "cell_type": "code",
      "source": [
        "\n",
        "# Testing/Evaluation phase\n",
        "model.eval()\n",
        "all_preds = []\n",
        "all_labels = []\n",
        "\n",
        "with torch.no_grad():\n",
        "    for images, input_ids, attention_masks, labels in test_loader:\n",
        "        images, input_ids, attention_masks, labels = images.to(device), input_ids.to(device), attention_masks.to(device), labels.to(device)\n",
        "\n",
        "        outputs = model(images, input_ids, attention_masks)\n",
        "        _, preds = torch.max(outputs, 1)\n",
        "\n",
        "        all_preds.extend(preds.cpu().numpy())\n",
        "        all_labels.extend(labels.cpu().numpy())\n",
        "\n",
        "# Calculate accuracy and print classification report\n",
        "accuracy = accuracy_score(all_labels, all_preds)\n",
        "print(f'Accuracy on test set: {accuracy * 100:.2f}%')\n",
        "\n",
        "print(\"Classification Report:\")\n",
        "print(classification_report(all_labels, all_preds, target_names=['circle', 'square']))"
      ],
      "metadata": {
        "colab": {
          "base_uri": "https://localhost:8080/"
        },
        "id": "KLvStA2W7qZs",
        "outputId": "e2cb48fe-df3f-43ce-82de-934886fee144"
      },
      "execution_count": 41,
      "outputs": [
        {
          "output_type": "stream",
          "name": "stdout",
          "text": [
            "Accuracy on test set: 100.00%\n",
            "Classification Report:\n",
            "              precision    recall  f1-score   support\n",
            "\n",
            "      circle       1.00      1.00      1.00         9\n",
            "      square       1.00      1.00      1.00        11\n",
            "\n",
            "    accuracy                           1.00        20\n",
            "   macro avg       1.00      1.00      1.00        20\n",
            "weighted avg       1.00      1.00      1.00        20\n",
            "\n"
          ]
        }
      ]
    },
    {
      "cell_type": "code",
      "source": [
        "import torch\n",
        "from sklearn.metrics import roc_auc_score, confusion_matrix, roc_curve, auc, accuracy_score\n",
        "import matplotlib.pyplot as plt\n",
        "import seaborn as sns\n",
        "\n",
        "# Model evaluation function\n",
        "def evaluate_model(model, test_loader, device):\n",
        "    model.eval()\n",
        "    all_preds = []\n",
        "    all_labels = []\n",
        "    all_probs = []\n",
        "\n",
        "    with torch.no_grad():\n",
        "        for images, input_ids, attention_masks, labels in test_loader:\n",
        "            images, input_ids, attention_masks, labels = images.to(device), input_ids.to(device), attention_masks.to(device), labels.to(device)\n",
        "\n",
        "            outputs = model(images, input_ids, attention_masks)\n",
        "            _, preds = torch.max(outputs, 1)\n",
        "            probs = torch.softmax(outputs, dim=1)[:, 1]  # Probabilities for class 1\n",
        "\n",
        "            all_preds.extend(preds.cpu().numpy())\n",
        "            all_labels.extend(labels.cpu().numpy())\n",
        "            all_probs.extend(probs.cpu().numpy())\n",
        "\n",
        "    # Calculate accuracy\n",
        "    accuracy = accuracy_score(all_labels, all_preds)\n",
        "    print(f'Accuracy on test set: {accuracy * 100:.2f}%')\n",
        "\n",
        "    # Calculate ROC-AUC\n",
        "    roc_auc = roc_auc_score(all_labels, all_probs)\n",
        "    print(f'ROC-AUC Score: {roc_auc:.2f}')\n",
        "\n",
        "    # Confusion Matrix\n",
        "    cm = confusion_matrix(all_labels, all_preds)\n",
        "    print(\"Confusion Matrix:\")\n",
        "    print(cm)\n",
        "\n",
        "    # Plot confusion matrix\n",
        "    plt.figure(figsize=(6, 6))\n",
        "    sns.heatmap(cm, annot=True, fmt=\"d\", cmap=\"Blues\", cbar=False, xticklabels=['Circle', 'Square'], yticklabels=['Circle', 'Square'])\n",
        "    plt.xlabel(\"Predicted\")\n",
        "    plt.ylabel(\"Actual\")\n",
        "    plt.title(\"Confusion Matrix\")\n",
        "    plt.show()\n",
        "\n",
        "    # Plot ROC curve\n",
        "    fpr, tpr, _ = roc_curve(all_labels, all_probs)\n",
        "    roc_auc_val = auc(fpr, tpr)\n",
        "\n",
        "    plt.figure(figsize=(8, 6))\n",
        "    plt.plot(fpr, tpr, color='darkorange', lw=2, label=f'ROC curve (area = {roc_auc_val:.2f})')\n",
        "    plt.plot([0, 1], [0, 1], color='navy', lw=2, linestyle='--')\n",
        "    plt.xlim([0.0, 1.0])\n",
        "    plt.ylim([0.0, 1.05])\n",
        "    plt.xlabel('False Positive Rate')\n",
        "    plt.ylabel('True Positive Rate')\n",
        "    plt.title('Receiver Operating Characteristic (ROC)')\n",
        "    plt.legend(loc=\"lower right\")\n",
        "    plt.show()\n",
        "\n",
        "# Example of how to run the evaluation:\n",
        "device = torch.device('cuda' if torch.cuda.is_available() else 'cpu')\n",
        "evaluate_model(model, test_loader, device)\n"
      ],
      "metadata": {
        "id": "M3rK-qAfT5pR",
        "colab": {
          "base_uri": "https://localhost:8080/",
          "height": 1000
        },
        "outputId": "39a031c6-b45f-40e6-bf0d-60182a8870d4"
      },
      "execution_count": 42,
      "outputs": [
        {
          "output_type": "stream",
          "name": "stdout",
          "text": [
            "Accuracy on test set: 100.00%\n",
            "ROC-AUC Score: 1.00\n",
            "Confusion Matrix:\n",
            "[[ 9  0]\n",
            " [ 0 11]]\n"
          ]
        },
        {
          "output_type": "display_data",
          "data": {
            "text/plain": [
              "<Figure size 600x600 with 1 Axes>"
            ],
            "image/png": "[encoded data removed]"
          },
          "metadata": {}
        },
        {
          "output_type": "display_data",
          "data": {
            "text/plain": [
              "<Figure size 800x600 with 1 Axes>"
            ],
            "image/png": "[encoded data removed]"
          },
          "metadata": {}
        }
      ]
    },
    {
      "cell_type": "code",
      "source": [],
      "metadata": {
        "id": "IGSx_ahb5oMF"
      },
      "execution_count": 42,
      "outputs": []
    }
  ]
}